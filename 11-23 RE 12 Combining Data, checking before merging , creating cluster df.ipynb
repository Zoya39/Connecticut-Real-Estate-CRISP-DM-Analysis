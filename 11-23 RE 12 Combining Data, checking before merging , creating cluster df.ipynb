{
 "cells": [
  {
   "cell_type": "markdown",
   "id": "dff2e3cc",
   "metadata": {},
   "source": [
    "### 4.6.2 IC  Importing libraries\n",
    "#### 1 Importing libraries\n",
    "#### 2 Importing files\n",
    "#### 3 Merging the dfs\n",
    "#### 4 Checking by using merge flag\n",
    "#### 5 Checking without rewriting df\n",
    "#### 6  Exporting the newly created dataframe as orders_products_merged "
   ]
  },
  {
   "cell_type": "markdown",
   "id": "78814ca3",
   "metadata": {},
   "source": [
    "### 1 Importing libraries"
   ]
  },
  {
   "cell_type": "code",
   "execution_count": 1,
   "id": "20152884",
   "metadata": {},
   "outputs": [],
   "source": [
    "import pandas as pd\n",
    "import numpy as np\n",
    "import os"
   ]
  },
  {
   "cell_type": "markdown",
   "id": "88ae2e14",
   "metadata": {},
   "source": [
    "### 2 Importing files"
   ]
  },
  {
   "cell_type": "code",
   "execution_count": 2,
   "id": "b7bad96c",
   "metadata": {},
   "outputs": [],
   "source": [
    "path = r'C:\\Users\\user\\11-2023 Real Estate Sales Connecticut\\Data'"
   ]
  },
  {
   "cell_type": "code",
   "execution_count": 4,
   "id": "a78dda1f",
   "metadata": {},
   "outputs": [],
   "source": [
    "df = pd.read_csv(os.path.join(path, 'Prepared Data','realestate_cluster.csv'), index_col=0)"
   ]
  },
  {
   "cell_type": "code",
   "execution_count": 6,
   "id": "b65dd5a8-9c9a-49b4-8e7a-4934480b2c24",
   "metadata": {},
   "outputs": [
    {
     "data": {
      "text/html": [
       "<div>\n",
       "<style scoped>\n",
       "    .dataframe tbody tr th:only-of-type {\n",
       "        vertical-align: middle;\n",
       "    }\n",
       "\n",
       "    .dataframe tbody tr th {\n",
       "        vertical-align: top;\n",
       "    }\n",
       "\n",
       "    .dataframe thead th {\n",
       "        text-align: right;\n",
       "    }\n",
       "</style>\n",
       "<table border=\"1\" class=\"dataframe\">\n",
       "  <thead>\n",
       "    <tr style=\"text-align: right;\">\n",
       "      <th></th>\n",
       "      <th>Assessed Value</th>\n",
       "      <th>Sale Amount</th>\n",
       "      <th>Sales Ratio</th>\n",
       "      <th>Sale_Amount_Zscore</th>\n",
       "      <th>clusters</th>\n",
       "      <th>cluster</th>\n",
       "    </tr>\n",
       "    <tr>\n",
       "      <th>Serial Number</th>\n",
       "      <th></th>\n",
       "      <th></th>\n",
       "      <th></th>\n",
       "      <th></th>\n",
       "      <th></th>\n",
       "      <th></th>\n",
       "    </tr>\n",
       "  </thead>\n",
       "  <tbody>\n",
       "    <tr>\n",
       "      <th>2020348</th>\n",
       "      <td>150500.0</td>\n",
       "      <td>325000.0</td>\n",
       "      <td>0.4630</td>\n",
       "      <td>-0.040765</td>\n",
       "      <td>0</td>\n",
       "      <td>red</td>\n",
       "    </tr>\n",
       "    <tr>\n",
       "      <th>20002</th>\n",
       "      <td>253000.0</td>\n",
       "      <td>430000.0</td>\n",
       "      <td>0.5883</td>\n",
       "      <td>0.033112</td>\n",
       "      <td>0</td>\n",
       "      <td>red</td>\n",
       "    </tr>\n",
       "  </tbody>\n",
       "</table>\n",
       "</div>"
      ],
      "text/plain": [
       "               Assessed Value  Sale Amount  Sales Ratio  Sale_Amount_Zscore  \\\n",
       "Serial Number                                                                 \n",
       "2020348              150500.0     325000.0       0.4630           -0.040765   \n",
       "20002                253000.0     430000.0       0.5883            0.033112   \n",
       "\n",
       "               clusters cluster  \n",
       "Serial Number                    \n",
       "2020348               0     red  \n",
       "20002                 0     red  "
      ]
     },
     "execution_count": 6,
     "metadata": {},
     "output_type": "execute_result"
    }
   ],
   "source": [
    "df.head(2)"
   ]
  },
  {
   "cell_type": "code",
   "execution_count": 5,
   "id": "aa4e3e22",
   "metadata": {},
   "outputs": [],
   "source": [
    "df_s = pd.read_csv(os.path.join(path, 'Prepared Data','realestate_sold.csv'), index_col=0)"
   ]
  },
  {
   "cell_type": "code",
   "execution_count": 7,
   "id": "25887745",
   "metadata": {},
   "outputs": [
    {
     "data": {
      "text/html": [
       "<div>\n",
       "<style scoped>\n",
       "    .dataframe tbody tr th:only-of-type {\n",
       "        vertical-align: middle;\n",
       "    }\n",
       "\n",
       "    .dataframe tbody tr th {\n",
       "        vertical-align: top;\n",
       "    }\n",
       "\n",
       "    .dataframe thead th {\n",
       "        text-align: right;\n",
       "    }\n",
       "</style>\n",
       "<table border=\"1\" class=\"dataframe\">\n",
       "  <thead>\n",
       "    <tr style=\"text-align: right;\">\n",
       "      <th></th>\n",
       "      <th>Serial Number</th>\n",
       "      <th>List Year</th>\n",
       "      <th>Town</th>\n",
       "      <th>Address</th>\n",
       "      <th>Assessed Value</th>\n",
       "      <th>Sale Amount</th>\n",
       "      <th>Sales Ratio</th>\n",
       "      <th>Property Type</th>\n",
       "      <th>Residential Type</th>\n",
       "      <th>Year of Sale</th>\n",
       "      <th>Month of Sale</th>\n",
       "      <th>Sale_Amount_Zscore</th>\n",
       "    </tr>\n",
       "  </thead>\n",
       "  <tbody>\n",
       "    <tr>\n",
       "      <th>0</th>\n",
       "      <td>2020348</td>\n",
       "      <td>2020</td>\n",
       "      <td>Ansonia</td>\n",
       "      <td>230 WAKELEE AVE</td>\n",
       "      <td>150500.0</td>\n",
       "      <td>325000.0</td>\n",
       "      <td>0.4630</td>\n",
       "      <td>Commercial</td>\n",
       "      <td>Non Residental</td>\n",
       "      <td>2021</td>\n",
       "      <td>9</td>\n",
       "      <td>-0.040765</td>\n",
       "    </tr>\n",
       "    <tr>\n",
       "      <th>1</th>\n",
       "      <td>20002</td>\n",
       "      <td>2020</td>\n",
       "      <td>Ashford</td>\n",
       "      <td>390 TURNPIKE RD</td>\n",
       "      <td>253000.0</td>\n",
       "      <td>430000.0</td>\n",
       "      <td>0.5883</td>\n",
       "      <td>Residential</td>\n",
       "      <td>Single Family</td>\n",
       "      <td>2020</td>\n",
       "      <td>10</td>\n",
       "      <td>0.033112</td>\n",
       "    </tr>\n",
       "  </tbody>\n",
       "</table>\n",
       "</div>"
      ],
      "text/plain": [
       "   Serial Number  List Year     Town          Address  Assessed Value  \\\n",
       "0        2020348       2020  Ansonia  230 WAKELEE AVE        150500.0   \n",
       "1          20002       2020  Ashford  390 TURNPIKE RD        253000.0   \n",
       "\n",
       "   Sale Amount  Sales Ratio Property Type Residential Type  Year of Sale  \\\n",
       "0     325000.0       0.4630    Commercial   Non Residental          2021   \n",
       "1     430000.0       0.5883   Residential    Single Family          2020   \n",
       "\n",
       "   Month of Sale  Sale_Amount_Zscore  \n",
       "0              9           -0.040765  \n",
       "1             10            0.033112  "
      ]
     },
     "execution_count": 7,
     "metadata": {},
     "output_type": "execute_result"
    }
   ],
   "source": [
    "df_s.head(2)"
   ]
  },
  {
   "cell_type": "markdown",
   "id": "a7b43e5a",
   "metadata": {},
   "source": [
    "### 3. merging the dfs"
   ]
  },
  {
   "cell_type": "code",
   "execution_count": 9,
   "id": "e1a547f5",
   "metadata": {},
   "outputs": [],
   "source": [
    "df_merged=df.merge(df_s, on=['Serial Number','Sale Amount','Assessed Value', 'Sales Ratio', 'Sale_Amount_Zscore'], how='inner', indicator=True)"
   ]
  },
  {
   "cell_type": "code",
   "execution_count": 10,
   "id": "242f47cd",
   "metadata": {},
   "outputs": [
    {
     "data": {
      "text/html": [
       "<div>\n",
       "<style scoped>\n",
       "    .dataframe tbody tr th:only-of-type {\n",
       "        vertical-align: middle;\n",
       "    }\n",
       "\n",
       "    .dataframe tbody tr th {\n",
       "        vertical-align: top;\n",
       "    }\n",
       "\n",
       "    .dataframe thead th {\n",
       "        text-align: right;\n",
       "    }\n",
       "</style>\n",
       "<table border=\"1\" class=\"dataframe\">\n",
       "  <thead>\n",
       "    <tr style=\"text-align: right;\">\n",
       "      <th></th>\n",
       "      <th>Serial Number</th>\n",
       "      <th>Assessed Value</th>\n",
       "      <th>Sale Amount</th>\n",
       "      <th>Sales Ratio</th>\n",
       "      <th>Sale_Amount_Zscore</th>\n",
       "      <th>clusters</th>\n",
       "      <th>cluster</th>\n",
       "      <th>List Year</th>\n",
       "      <th>Town</th>\n",
       "      <th>Address</th>\n",
       "      <th>Property Type</th>\n",
       "      <th>Residential Type</th>\n",
       "      <th>Year of Sale</th>\n",
       "      <th>Month of Sale</th>\n",
       "      <th>_merge</th>\n",
       "    </tr>\n",
       "  </thead>\n",
       "  <tbody>\n",
       "    <tr>\n",
       "      <th>0</th>\n",
       "      <td>2020348</td>\n",
       "      <td>150500.0</td>\n",
       "      <td>325000.0</td>\n",
       "      <td>0.463000</td>\n",
       "      <td>-0.040765</td>\n",
       "      <td>0</td>\n",
       "      <td>red</td>\n",
       "      <td>2020</td>\n",
       "      <td>Ansonia</td>\n",
       "      <td>230 WAKELEE AVE</td>\n",
       "      <td>Commercial</td>\n",
       "      <td>Non Residental</td>\n",
       "      <td>2021</td>\n",
       "      <td>9</td>\n",
       "      <td>both</td>\n",
       "    </tr>\n",
       "    <tr>\n",
       "      <th>1</th>\n",
       "      <td>20002</td>\n",
       "      <td>253000.0</td>\n",
       "      <td>430000.0</td>\n",
       "      <td>0.588300</td>\n",
       "      <td>0.033112</td>\n",
       "      <td>0</td>\n",
       "      <td>red</td>\n",
       "      <td>2020</td>\n",
       "      <td>Ashford</td>\n",
       "      <td>390 TURNPIKE RD</td>\n",
       "      <td>Residential</td>\n",
       "      <td>Single Family</td>\n",
       "      <td>2020</td>\n",
       "      <td>10</td>\n",
       "      <td>both</td>\n",
       "    </tr>\n",
       "    <tr>\n",
       "      <th>2</th>\n",
       "      <td>200212</td>\n",
       "      <td>130400.0</td>\n",
       "      <td>179900.0</td>\n",
       "      <td>0.724800</td>\n",
       "      <td>-0.142855</td>\n",
       "      <td>0</td>\n",
       "      <td>red</td>\n",
       "      <td>2020</td>\n",
       "      <td>Avon</td>\n",
       "      <td>5 CHESTNUT DRIVE</td>\n",
       "      <td>Residential</td>\n",
       "      <td>Condo</td>\n",
       "      <td>2021</td>\n",
       "      <td>3</td>\n",
       "      <td>both</td>\n",
       "    </tr>\n",
       "    <tr>\n",
       "      <th>3</th>\n",
       "      <td>200243</td>\n",
       "      <td>619290.0</td>\n",
       "      <td>890000.0</td>\n",
       "      <td>0.695800</td>\n",
       "      <td>0.356761</td>\n",
       "      <td>0</td>\n",
       "      <td>red</td>\n",
       "      <td>2020</td>\n",
       "      <td>Avon</td>\n",
       "      <td>111 NORTHINGTON DRIVE</td>\n",
       "      <td>Residential</td>\n",
       "      <td>Single Family</td>\n",
       "      <td>2021</td>\n",
       "      <td>4</td>\n",
       "      <td>both</td>\n",
       "    </tr>\n",
       "    <tr>\n",
       "      <th>4</th>\n",
       "      <td>200377</td>\n",
       "      <td>862330.0</td>\n",
       "      <td>1447500.0</td>\n",
       "      <td>0.595700</td>\n",
       "      <td>0.749010</td>\n",
       "      <td>0</td>\n",
       "      <td>red</td>\n",
       "      <td>2020</td>\n",
       "      <td>Avon</td>\n",
       "      <td>70 FAR HILLS DRIVE</td>\n",
       "      <td>Residential</td>\n",
       "      <td>Single Family</td>\n",
       "      <td>2021</td>\n",
       "      <td>7</td>\n",
       "      <td>both</td>\n",
       "    </tr>\n",
       "    <tr>\n",
       "      <th>...</th>\n",
       "      <td>...</td>\n",
       "      <td>...</td>\n",
       "      <td>...</td>\n",
       "      <td>...</td>\n",
       "      <td>...</td>\n",
       "      <td>...</td>\n",
       "      <td>...</td>\n",
       "      <td>...</td>\n",
       "      <td>...</td>\n",
       "      <td>...</td>\n",
       "      <td>...</td>\n",
       "      <td>...</td>\n",
       "      <td>...</td>\n",
       "      <td>...</td>\n",
       "      <td>...</td>\n",
       "    </tr>\n",
       "    <tr>\n",
       "      <th>995227</th>\n",
       "      <td>190272</td>\n",
       "      <td>60410.0</td>\n",
       "      <td>53100.0</td>\n",
       "      <td>1.137665</td>\n",
       "      <td>-0.232070</td>\n",
       "      <td>0</td>\n",
       "      <td>red</td>\n",
       "      <td>2019</td>\n",
       "      <td>New London</td>\n",
       "      <td>4 BISHOP CT</td>\n",
       "      <td>Single Family</td>\n",
       "      <td>Single Family</td>\n",
       "      <td>2020</td>\n",
       "      <td>6</td>\n",
       "      <td>both</td>\n",
       "    </tr>\n",
       "    <tr>\n",
       "      <th>995228</th>\n",
       "      <td>190284</td>\n",
       "      <td>68280.0</td>\n",
       "      <td>76000.0</td>\n",
       "      <td>0.898400</td>\n",
       "      <td>-0.215958</td>\n",
       "      <td>0</td>\n",
       "      <td>red</td>\n",
       "      <td>2019</td>\n",
       "      <td>Waterbury</td>\n",
       "      <td>126 PERKINS AVE</td>\n",
       "      <td>Single Family</td>\n",
       "      <td>Single Family</td>\n",
       "      <td>2019</td>\n",
       "      <td>11</td>\n",
       "      <td>both</td>\n",
       "    </tr>\n",
       "    <tr>\n",
       "      <th>995229</th>\n",
       "      <td>190129</td>\n",
       "      <td>121450.0</td>\n",
       "      <td>210000.0</td>\n",
       "      <td>0.578300</td>\n",
       "      <td>-0.121677</td>\n",
       "      <td>0</td>\n",
       "      <td>red</td>\n",
       "      <td>2019</td>\n",
       "      <td>Windsor Locks</td>\n",
       "      <td>19 HATHAWAY ST</td>\n",
       "      <td>Single Family</td>\n",
       "      <td>Single Family</td>\n",
       "      <td>2020</td>\n",
       "      <td>4</td>\n",
       "      <td>both</td>\n",
       "    </tr>\n",
       "    <tr>\n",
       "      <th>995230</th>\n",
       "      <td>190504</td>\n",
       "      <td>203360.0</td>\n",
       "      <td>280000.0</td>\n",
       "      <td>0.726300</td>\n",
       "      <td>-0.072426</td>\n",
       "      <td>0</td>\n",
       "      <td>red</td>\n",
       "      <td>2019</td>\n",
       "      <td>Middletown</td>\n",
       "      <td>8 BYSTREK DR</td>\n",
       "      <td>Single Family</td>\n",
       "      <td>Single Family</td>\n",
       "      <td>2020</td>\n",
       "      <td>6</td>\n",
       "      <td>both</td>\n",
       "    </tr>\n",
       "    <tr>\n",
       "      <th>995231</th>\n",
       "      <td>190344</td>\n",
       "      <td>4035970.0</td>\n",
       "      <td>7450000.0</td>\n",
       "      <td>0.541700</td>\n",
       "      <td>4.972284</td>\n",
       "      <td>0</td>\n",
       "      <td>red</td>\n",
       "      <td>2019</td>\n",
       "      <td>Milford</td>\n",
       "      <td>250 RESEARCH DR</td>\n",
       "      <td>Non Indicated</td>\n",
       "      <td>Non Indicated</td>\n",
       "      <td>2019</td>\n",
       "      <td>12</td>\n",
       "      <td>both</td>\n",
       "    </tr>\n",
       "  </tbody>\n",
       "</table>\n",
       "<p>995232 rows × 15 columns</p>\n",
       "</div>"
      ],
      "text/plain": [
       "        Serial Number  Assessed Value  Sale Amount  Sales Ratio  \\\n",
       "0             2020348        150500.0     325000.0     0.463000   \n",
       "1               20002        253000.0     430000.0     0.588300   \n",
       "2              200212        130400.0     179900.0     0.724800   \n",
       "3              200243        619290.0     890000.0     0.695800   \n",
       "4              200377        862330.0    1447500.0     0.595700   \n",
       "...               ...             ...          ...          ...   \n",
       "995227         190272         60410.0      53100.0     1.137665   \n",
       "995228         190284         68280.0      76000.0     0.898400   \n",
       "995229         190129        121450.0     210000.0     0.578300   \n",
       "995230         190504        203360.0     280000.0     0.726300   \n",
       "995231         190344       4035970.0    7450000.0     0.541700   \n",
       "\n",
       "        Sale_Amount_Zscore  clusters cluster  List Year           Town  \\\n",
       "0                -0.040765         0     red       2020        Ansonia   \n",
       "1                 0.033112         0     red       2020        Ashford   \n",
       "2                -0.142855         0     red       2020           Avon   \n",
       "3                 0.356761         0     red       2020           Avon   \n",
       "4                 0.749010         0     red       2020           Avon   \n",
       "...                    ...       ...     ...        ...            ...   \n",
       "995227           -0.232070         0     red       2019     New London   \n",
       "995228           -0.215958         0     red       2019      Waterbury   \n",
       "995229           -0.121677         0     red       2019  Windsor Locks   \n",
       "995230           -0.072426         0     red       2019     Middletown   \n",
       "995231            4.972284         0     red       2019        Milford   \n",
       "\n",
       "                      Address  Property Type Residential Type  Year of Sale  \\\n",
       "0             230 WAKELEE AVE     Commercial   Non Residental          2021   \n",
       "1             390 TURNPIKE RD    Residential    Single Family          2020   \n",
       "2            5 CHESTNUT DRIVE    Residential            Condo          2021   \n",
       "3       111 NORTHINGTON DRIVE    Residential    Single Family          2021   \n",
       "4          70 FAR HILLS DRIVE    Residential    Single Family          2021   \n",
       "...                       ...            ...              ...           ...   \n",
       "995227            4 BISHOP CT  Single Family    Single Family          2020   \n",
       "995228        126 PERKINS AVE  Single Family    Single Family          2019   \n",
       "995229         19 HATHAWAY ST  Single Family    Single Family          2020   \n",
       "995230           8 BYSTREK DR  Single Family    Single Family          2020   \n",
       "995231        250 RESEARCH DR  Non Indicated    Non Indicated          2019   \n",
       "\n",
       "        Month of Sale _merge  \n",
       "0                   9   both  \n",
       "1                  10   both  \n",
       "2                   3   both  \n",
       "3                   4   both  \n",
       "4                   7   both  \n",
       "...               ...    ...  \n",
       "995227              6   both  \n",
       "995228             11   both  \n",
       "995229              4   both  \n",
       "995230              6   both  \n",
       "995231             12   both  \n",
       "\n",
       "[995232 rows x 15 columns]"
      ]
     },
     "execution_count": 10,
     "metadata": {},
     "output_type": "execute_result"
    }
   ],
   "source": [
    "df_merged"
   ]
  },
  {
   "cell_type": "code",
   "execution_count": 26,
   "id": "c8c8ca00-20e1-46de-a781-4240d89d0dc3",
   "metadata": {},
   "outputs": [
    {
     "data": {
      "text/plain": [
       "(995232,)"
      ]
     },
     "execution_count": 26,
     "metadata": {},
     "output_type": "execute_result"
    }
   ],
   "source": [
    "### Checking for duplicates:\n",
    "dups = df_merged.duplicated()\n",
    "dups.shape # No dups"
   ]
  },
  {
   "cell_type": "code",
   "execution_count": 27,
   "id": "1cc88f56-a681-4e21-8419-f5f6a546106b",
   "metadata": {},
   "outputs": [
    {
     "data": {
      "text/plain": [
       "Assessed Value        0\n",
       "Sale Amount           0\n",
       "Sales Ratio           0\n",
       "Sale_Amount_Zscore    0\n",
       "clusters              0\n",
       "cluster               0\n",
       "dtype: int64"
      ]
     },
     "execution_count": 27,
     "metadata": {},
     "output_type": "execute_result"
    }
   ],
   "source": [
    "### Checking for missing values:\n",
    "df.isnull().sum()   # No missing values to handle"
   ]
  },
  {
   "cell_type": "markdown",
   "id": "9ef7a4d8",
   "metadata": {},
   "source": [
    "###  Taking in consideration the size of dfs I prefer to do outer merge "
   ]
  },
  {
   "cell_type": "code",
   "execution_count": 15,
   "id": "2618eca3-7845-4e26-9329-31b79385373c",
   "metadata": {},
   "outputs": [],
   "source": [
    "### saving df_merged\n",
    "df_merged.to_pickle(os.path.join(path,'Prepared Data','realestate_merged.pkl'))"
   ]
  },
  {
   "cell_type": "code",
   "execution_count": null,
   "id": "e3380906-40c9-4e9e-aca4-c898da630963",
   "metadata": {},
   "outputs": [],
   "source": []
  },
  {
   "cell_type": "markdown",
   "id": "8c5ee454",
   "metadata": {},
   "source": [
    "### 4. Checking by using merge flag:"
   ]
  },
  {
   "cell_type": "code",
   "execution_count": 14,
   "id": "9793d5d7",
   "metadata": {},
   "outputs": [
    {
     "data": {
      "text/plain": [
       "_merge\n",
       "both          995232\n",
       "left_only          0\n",
       "right_only         0\n",
       "Name: count, dtype: int64"
      ]
     },
     "execution_count": 14,
     "metadata": {},
     "output_type": "execute_result"
    }
   ],
   "source": [
    "df_merged['_merge'].value_counts()"
   ]
  },
  {
   "cell_type": "markdown",
   "id": "ddffa701-8b4c-4dd4-8aa8-da541268f06b",
   "metadata": {},
   "source": [
    "## 5. Creating df for each cluster and saving df"
   ]
  },
  {
   "cell_type": "code",
   "execution_count": 21,
   "id": "87463c9c-719e-46a3-bf31-dde131756400",
   "metadata": {},
   "outputs": [],
   "source": [
    "### creating df for cluster 4:\n",
    "df_cluster4=df_merged[df_merged['clusters']==4]\n",
    "### saving df:\n",
    "df_cluster4.to_csv(os.path.join(path,'Prepared Data','realestate_cluster4.csv'))"
   ]
  },
  {
   "cell_type": "code",
   "execution_count": 18,
   "id": "33741c78-67a6-467d-abb9-0a8a5381b9e9",
   "metadata": {},
   "outputs": [
    {
     "data": {
      "text/plain": [
       "(867, 15)"
      ]
     },
     "execution_count": 18,
     "metadata": {},
     "output_type": "execute_result"
    }
   ],
   "source": [
    "df_cluster4.shape"
   ]
  },
  {
   "cell_type": "code",
   "execution_count": 23,
   "id": "82360aa0-bdf9-40d0-a039-19ef7236947e",
   "metadata": {},
   "outputs": [
    {
     "data": {
      "text/plain": [
       "(2, 15)"
      ]
     },
     "execution_count": 23,
     "metadata": {},
     "output_type": "execute_result"
    }
   ],
   "source": [
    "### creating df for cluster 3:\n",
    "df_cluster3=df_merged[df_merged['clusters']==3]\n",
    "### saving df :\n",
    "df_cluster3.to_csv(os.path.join(path,'Prepared Data','realestate_cluster3.csv'))\n",
    "### checking shape:\n",
    "df_cluster3.shape"
   ]
  },
  {
   "cell_type": "code",
   "execution_count": 24,
   "id": "fc8e48b9-a736-44b3-b694-b1830e10d4ae",
   "metadata": {},
   "outputs": [
    {
     "data": {
      "text/plain": [
       "(868, 15)"
      ]
     },
     "execution_count": 24,
     "metadata": {},
     "output_type": "execute_result"
    }
   ],
   "source": [
    "### creating df for cluster 1:\n",
    "df_cluster1=df_merged[df_merged['clusters']==1]\n",
    "### saving df :\n",
    "df_cluster1.to_csv(os.path.join(path,'Prepared Data','realestate_cluster1.csv'))\n",
    "### checking shape:\n",
    "df_cluster1.shape"
   ]
  },
  {
   "cell_type": "code",
   "execution_count": 25,
   "id": "6b85e179-6abc-4ee2-b381-e670ee939129",
   "metadata": {},
   "outputs": [
    {
     "data": {
      "text/plain": [
       "(6109, 15)"
      ]
     },
     "execution_count": 25,
     "metadata": {},
     "output_type": "execute_result"
    }
   ],
   "source": [
    "### creating df for cluster 2:\n",
    "df_cluster2=df_merged[df_merged['clusters']==2]\n",
    "### saving df :\n",
    "df_cluster2.to_csv(os.path.join(path,'Prepared Data','realestate_cluster2.csv'))\n",
    "### checking shape:\n",
    "df_cluster2.shape"
   ]
  },
  {
   "cell_type": "code",
   "execution_count": 28,
   "id": "f706fd91-244a-42a6-9cb7-8826a1e6d2be",
   "metadata": {},
   "outputs": [
    {
     "data": {
      "text/plain": [
       "(987386, 15)"
      ]
     },
     "execution_count": 28,
     "metadata": {},
     "output_type": "execute_result"
    }
   ],
   "source": [
    "### creating df for cluster 0:\n",
    "df_cluster0=df_merged[df_merged['clusters']==0]\n",
    "### saving df :\n",
    "df_cluster0.to_csv(os.path.join(path,'Prepared Data','realestate_cluster0.csv'))\n",
    "### checking shape:\n",
    "df_cluster0.shape"
   ]
  },
  {
   "cell_type": "code",
   "execution_count": null,
   "id": "25b15757",
   "metadata": {},
   "outputs": [],
   "source": []
  }
 ],
 "metadata": {
  "kernelspec": {
   "display_name": "Python 3 (ipykernel)",
   "language": "python",
   "name": "python3"
  },
  "language_info": {
   "codemirror_mode": {
    "name": "ipython",
    "version": 3
   },
   "file_extension": ".py",
   "mimetype": "text/x-python",
   "name": "python",
   "nbconvert_exporter": "python",
   "pygments_lexer": "ipython3",
   "version": "3.10.13"
  }
 },
 "nbformat": 4,
 "nbformat_minor": 5
}
