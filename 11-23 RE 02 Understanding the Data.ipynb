{
 "cells": [
  {
   "cell_type": "markdown",
   "id": "8fa1ee94",
   "metadata": {},
   "source": [
    "## 02 RE Data Understanding \n",
    "#### 02-1 Importing the libraries\n",
    "#### 02-2 Importing the df\n",
    "#### 02-3 Checking the distribution\n",
    "   ##### 02-3-1 Creating histogram\n",
    "   ##### 02-3-2 Conducting P-test by a=0,05\n",
    "#### 02-5 Conducting z-score calculation and finding outliers \n",
    "#### 02-6 Checking outliers by a boxplot\n",
    "#### 02-7 Checking outliers by boxplot\n"
   ]
  },
  {
   "cell_type": "markdown",
   "id": "20a9b576",
   "metadata": {},
   "source": [
    "### 01-1 Importing libraries"
   ]
  },
  {
   "cell_type": "code",
   "execution_count": 1,
   "id": "e3c25b47",
   "metadata": {},
   "outputs": [],
   "source": [
    "# Import Libraries\n",
    "import pandas as pd\n",
    "import numpy as np\n",
    "import os\n",
    "import matplotlib.pyplot as plt\n",
    "import seaborn as sns\n",
    "import scipy\n",
    "from scipy import stats"
   ]
  },
  {
   "cell_type": "markdown",
   "id": "49c36911",
   "metadata": {},
   "source": [
    "### 01-2 Importing file"
   ]
  },
  {
   "cell_type": "code",
   "execution_count": 2,
   "id": "17c5e9a7",
   "metadata": {},
   "outputs": [],
   "source": [
    "path=r'C:\\Users\\user\\11-2023 Real Estate Sales Connecticut'"
   ]
  },
  {
   "cell_type": "code",
   "execution_count": 3,
   "id": "846a6e37",
   "metadata": {},
   "outputs": [],
   "source": [
    "df_re=pd.read_csv(os.path.join(path,'Data','Prepared Data','realestate_clean.csv'), index_col=0)"
   ]
  },
  {
   "cell_type": "markdown",
   "id": "351bb55b",
   "metadata": {},
   "source": [
    "#### Column visualization "
   ]
  },
  {
   "cell_type": "code",
   "execution_count": 4,
   "id": "56259e30",
   "metadata": {},
   "outputs": [
    {
     "data": {
      "text/html": [
       "<div>\n",
       "<style scoped>\n",
       "    .dataframe tbody tr th:only-of-type {\n",
       "        vertical-align: middle;\n",
       "    }\n",
       "\n",
       "    .dataframe tbody tr th {\n",
       "        vertical-align: top;\n",
       "    }\n",
       "\n",
       "    .dataframe thead th {\n",
       "        text-align: right;\n",
       "    }\n",
       "</style>\n",
       "<table border=\"1\" class=\"dataframe\">\n",
       "  <thead>\n",
       "    <tr style=\"text-align: right;\">\n",
       "      <th></th>\n",
       "      <th>Serial Number</th>\n",
       "      <th>List Year</th>\n",
       "      <th>Town</th>\n",
       "      <th>Address</th>\n",
       "      <th>Assessed Value</th>\n",
       "      <th>Sale Amount</th>\n",
       "      <th>Sales Ratio</th>\n",
       "      <th>Property Type</th>\n",
       "      <th>Residential Type</th>\n",
       "      <th>Year of Sale</th>\n",
       "      <th>Month of Sale</th>\n",
       "    </tr>\n",
       "  </thead>\n",
       "  <tbody>\n",
       "    <tr>\n",
       "      <th>0</th>\n",
       "      <td>2020348</td>\n",
       "      <td>2020</td>\n",
       "      <td>Ansonia</td>\n",
       "      <td>230 WAKELEE AVE</td>\n",
       "      <td>150500.0</td>\n",
       "      <td>325000.0</td>\n",
       "      <td>0.463000</td>\n",
       "      <td>Commercial</td>\n",
       "      <td>Non Residental</td>\n",
       "      <td>2021</td>\n",
       "      <td>9</td>\n",
       "    </tr>\n",
       "    <tr>\n",
       "      <th>1</th>\n",
       "      <td>20002</td>\n",
       "      <td>2020</td>\n",
       "      <td>Ashford</td>\n",
       "      <td>390 TURNPIKE RD</td>\n",
       "      <td>253000.0</td>\n",
       "      <td>430000.0</td>\n",
       "      <td>0.588300</td>\n",
       "      <td>Residential</td>\n",
       "      <td>Single Family</td>\n",
       "      <td>2020</td>\n",
       "      <td>10</td>\n",
       "    </tr>\n",
       "    <tr>\n",
       "      <th>2</th>\n",
       "      <td>200212</td>\n",
       "      <td>2020</td>\n",
       "      <td>Avon</td>\n",
       "      <td>5 CHESTNUT DRIVE</td>\n",
       "      <td>130400.0</td>\n",
       "      <td>179900.0</td>\n",
       "      <td>0.724800</td>\n",
       "      <td>Residential</td>\n",
       "      <td>Condo</td>\n",
       "      <td>2021</td>\n",
       "      <td>3</td>\n",
       "    </tr>\n",
       "    <tr>\n",
       "      <th>3</th>\n",
       "      <td>200243</td>\n",
       "      <td>2020</td>\n",
       "      <td>Avon</td>\n",
       "      <td>111 NORTHINGTON DRIVE</td>\n",
       "      <td>619290.0</td>\n",
       "      <td>890000.0</td>\n",
       "      <td>0.695800</td>\n",
       "      <td>Residential</td>\n",
       "      <td>Single Family</td>\n",
       "      <td>2021</td>\n",
       "      <td>4</td>\n",
       "    </tr>\n",
       "    <tr>\n",
       "      <th>4</th>\n",
       "      <td>200377</td>\n",
       "      <td>2020</td>\n",
       "      <td>Avon</td>\n",
       "      <td>70 FAR HILLS DRIVE</td>\n",
       "      <td>862330.0</td>\n",
       "      <td>1447500.0</td>\n",
       "      <td>0.595700</td>\n",
       "      <td>Residential</td>\n",
       "      <td>Single Family</td>\n",
       "      <td>2021</td>\n",
       "      <td>7</td>\n",
       "    </tr>\n",
       "    <tr>\n",
       "      <th>...</th>\n",
       "      <td>...</td>\n",
       "      <td>...</td>\n",
       "      <td>...</td>\n",
       "      <td>...</td>\n",
       "      <td>...</td>\n",
       "      <td>...</td>\n",
       "      <td>...</td>\n",
       "      <td>...</td>\n",
       "      <td>...</td>\n",
       "      <td>...</td>\n",
       "      <td>...</td>\n",
       "    </tr>\n",
       "    <tr>\n",
       "      <th>997208</th>\n",
       "      <td>190272</td>\n",
       "      <td>2019</td>\n",
       "      <td>New London</td>\n",
       "      <td>4 BISHOP CT</td>\n",
       "      <td>60410.0</td>\n",
       "      <td>53100.0</td>\n",
       "      <td>1.137665</td>\n",
       "      <td>Single Family</td>\n",
       "      <td>Single Family</td>\n",
       "      <td>2020</td>\n",
       "      <td>6</td>\n",
       "    </tr>\n",
       "    <tr>\n",
       "      <th>997209</th>\n",
       "      <td>190284</td>\n",
       "      <td>2019</td>\n",
       "      <td>Waterbury</td>\n",
       "      <td>126 PERKINS AVE</td>\n",
       "      <td>68280.0</td>\n",
       "      <td>76000.0</td>\n",
       "      <td>0.898400</td>\n",
       "      <td>Single Family</td>\n",
       "      <td>Single Family</td>\n",
       "      <td>2019</td>\n",
       "      <td>11</td>\n",
       "    </tr>\n",
       "    <tr>\n",
       "      <th>997210</th>\n",
       "      <td>190129</td>\n",
       "      <td>2019</td>\n",
       "      <td>Windsor Locks</td>\n",
       "      <td>19 HATHAWAY ST</td>\n",
       "      <td>121450.0</td>\n",
       "      <td>210000.0</td>\n",
       "      <td>0.578300</td>\n",
       "      <td>Single Family</td>\n",
       "      <td>Single Family</td>\n",
       "      <td>2020</td>\n",
       "      <td>4</td>\n",
       "    </tr>\n",
       "    <tr>\n",
       "      <th>997211</th>\n",
       "      <td>190504</td>\n",
       "      <td>2019</td>\n",
       "      <td>Middletown</td>\n",
       "      <td>8 BYSTREK DR</td>\n",
       "      <td>203360.0</td>\n",
       "      <td>280000.0</td>\n",
       "      <td>0.726300</td>\n",
       "      <td>Single Family</td>\n",
       "      <td>Single Family</td>\n",
       "      <td>2020</td>\n",
       "      <td>6</td>\n",
       "    </tr>\n",
       "    <tr>\n",
       "      <th>997212</th>\n",
       "      <td>190344</td>\n",
       "      <td>2019</td>\n",
       "      <td>Milford</td>\n",
       "      <td>250 RESEARCH DR</td>\n",
       "      <td>4035970.0</td>\n",
       "      <td>7450000.0</td>\n",
       "      <td>0.541700</td>\n",
       "      <td>Non Indicated</td>\n",
       "      <td>Non Indicated</td>\n",
       "      <td>2019</td>\n",
       "      <td>12</td>\n",
       "    </tr>\n",
       "  </tbody>\n",
       "</table>\n",
       "<p>997150 rows × 11 columns</p>\n",
       "</div>"
      ],
      "text/plain": [
       "        Serial Number  List Year           Town                Address  \\\n",
       "0             2020348       2020        Ansonia        230 WAKELEE AVE   \n",
       "1               20002       2020        Ashford        390 TURNPIKE RD   \n",
       "2              200212       2020           Avon       5 CHESTNUT DRIVE   \n",
       "3              200243       2020           Avon  111 NORTHINGTON DRIVE   \n",
       "4              200377       2020           Avon     70 FAR HILLS DRIVE   \n",
       "...               ...        ...            ...                    ...   \n",
       "997208         190272       2019     New London            4 BISHOP CT   \n",
       "997209         190284       2019      Waterbury        126 PERKINS AVE   \n",
       "997210         190129       2019  Windsor Locks         19 HATHAWAY ST   \n",
       "997211         190504       2019     Middletown           8 BYSTREK DR   \n",
       "997212         190344       2019        Milford        250 RESEARCH DR   \n",
       "\n",
       "        Assessed Value  Sale Amount  Sales Ratio  Property Type  \\\n",
       "0             150500.0     325000.0     0.463000     Commercial   \n",
       "1             253000.0     430000.0     0.588300    Residential   \n",
       "2             130400.0     179900.0     0.724800    Residential   \n",
       "3             619290.0     890000.0     0.695800    Residential   \n",
       "4             862330.0    1447500.0     0.595700    Residential   \n",
       "...                ...          ...          ...            ...   \n",
       "997208         60410.0      53100.0     1.137665  Single Family   \n",
       "997209         68280.0      76000.0     0.898400  Single Family   \n",
       "997210        121450.0     210000.0     0.578300  Single Family   \n",
       "997211        203360.0     280000.0     0.726300  Single Family   \n",
       "997212       4035970.0    7450000.0     0.541700  Non Indicated   \n",
       "\n",
       "       Residential Type  Year of Sale  Month of Sale  \n",
       "0        Non Residental          2021              9  \n",
       "1         Single Family          2020             10  \n",
       "2                 Condo          2021              3  \n",
       "3         Single Family          2021              4  \n",
       "4         Single Family          2021              7  \n",
       "...                 ...           ...            ...  \n",
       "997208    Single Family          2020              6  \n",
       "997209    Single Family          2019             11  \n",
       "997210    Single Family          2020              4  \n",
       "997211    Single Family          2020              6  \n",
       "997212    Non Indicated          2019             12  \n",
       "\n",
       "[997150 rows x 11 columns]"
      ]
     },
     "execution_count": 4,
     "metadata": {},
     "output_type": "execute_result"
    }
   ],
   "source": [
    "df_re"
   ]
  },
  {
   "cell_type": "markdown",
   "id": "dbfc1af9",
   "metadata": {},
   "source": [
    "### 01-4 Creating subset for Distribution analysis"
   ]
  },
  {
   "cell_type": "markdown",
   "id": "24bb556a",
   "metadata": {},
   "source": [
    "####  Null visualization"
   ]
  },
  {
   "cell_type": "code",
   "execution_count": 5,
   "id": "54a0db04",
   "metadata": {},
   "outputs": [],
   "source": [
    "count=(df_re==0).sum()"
   ]
  },
  {
   "cell_type": "code",
   "execution_count": 6,
   "id": "5ddc55a2",
   "metadata": {},
   "outputs": [
    {
     "name": "stdout",
     "output_type": "stream",
     "text": [
      "Serial Number          0\n",
      "List Year              0\n",
      "Town                   0\n",
      "Address                0\n",
      "Assessed Value      6897\n",
      "Sale Amount         1783\n",
      "Sales Ratio         8423\n",
      "Property Type          0\n",
      "Residential Type       0\n",
      "Year of Sale           0\n",
      "Month of Sale          0\n",
      "dtype: int64\n"
     ]
    }
   ],
   "source": [
    "print(count)"
   ]
  },
  {
   "cell_type": "markdown",
   "id": "4f3725b5",
   "metadata": {},
   "source": [
    "#### Creating subset without 0 values to analyse the price distribution"
   ]
  },
  {
   "cell_type": "code",
   "execution_count": 7,
   "id": "bb3a877b",
   "metadata": {},
   "outputs": [],
   "source": [
    "df_re = df_re[df_re['Sale Amount'] != 0]"
   ]
  },
  {
   "cell_type": "code",
   "execution_count": 8,
   "id": "f8f6b7b5",
   "metadata": {},
   "outputs": [
    {
     "data": {
      "text/html": [
       "<div>\n",
       "<style scoped>\n",
       "    .dataframe tbody tr th:only-of-type {\n",
       "        vertical-align: middle;\n",
       "    }\n",
       "\n",
       "    .dataframe tbody tr th {\n",
       "        vertical-align: top;\n",
       "    }\n",
       "\n",
       "    .dataframe thead th {\n",
       "        text-align: right;\n",
       "    }\n",
       "</style>\n",
       "<table border=\"1\" class=\"dataframe\">\n",
       "  <thead>\n",
       "    <tr style=\"text-align: right;\">\n",
       "      <th></th>\n",
       "      <th>Serial Number</th>\n",
       "      <th>List Year</th>\n",
       "      <th>Town</th>\n",
       "      <th>Address</th>\n",
       "      <th>Assessed Value</th>\n",
       "      <th>Sale Amount</th>\n",
       "      <th>Sales Ratio</th>\n",
       "      <th>Property Type</th>\n",
       "      <th>Residential Type</th>\n",
       "      <th>Year of Sale</th>\n",
       "      <th>Month of Sale</th>\n",
       "    </tr>\n",
       "  </thead>\n",
       "  <tbody>\n",
       "    <tr>\n",
       "      <th>0</th>\n",
       "      <td>2020348</td>\n",
       "      <td>2020</td>\n",
       "      <td>Ansonia</td>\n",
       "      <td>230 WAKELEE AVE</td>\n",
       "      <td>150500.0</td>\n",
       "      <td>325000.0</td>\n",
       "      <td>0.463000</td>\n",
       "      <td>Commercial</td>\n",
       "      <td>Non Residental</td>\n",
       "      <td>2021</td>\n",
       "      <td>9</td>\n",
       "    </tr>\n",
       "    <tr>\n",
       "      <th>1</th>\n",
       "      <td>20002</td>\n",
       "      <td>2020</td>\n",
       "      <td>Ashford</td>\n",
       "      <td>390 TURNPIKE RD</td>\n",
       "      <td>253000.0</td>\n",
       "      <td>430000.0</td>\n",
       "      <td>0.588300</td>\n",
       "      <td>Residential</td>\n",
       "      <td>Single Family</td>\n",
       "      <td>2020</td>\n",
       "      <td>10</td>\n",
       "    </tr>\n",
       "    <tr>\n",
       "      <th>2</th>\n",
       "      <td>200212</td>\n",
       "      <td>2020</td>\n",
       "      <td>Avon</td>\n",
       "      <td>5 CHESTNUT DRIVE</td>\n",
       "      <td>130400.0</td>\n",
       "      <td>179900.0</td>\n",
       "      <td>0.724800</td>\n",
       "      <td>Residential</td>\n",
       "      <td>Condo</td>\n",
       "      <td>2021</td>\n",
       "      <td>3</td>\n",
       "    </tr>\n",
       "    <tr>\n",
       "      <th>3</th>\n",
       "      <td>200243</td>\n",
       "      <td>2020</td>\n",
       "      <td>Avon</td>\n",
       "      <td>111 NORTHINGTON DRIVE</td>\n",
       "      <td>619290.0</td>\n",
       "      <td>890000.0</td>\n",
       "      <td>0.695800</td>\n",
       "      <td>Residential</td>\n",
       "      <td>Single Family</td>\n",
       "      <td>2021</td>\n",
       "      <td>4</td>\n",
       "    </tr>\n",
       "    <tr>\n",
       "      <th>4</th>\n",
       "      <td>200377</td>\n",
       "      <td>2020</td>\n",
       "      <td>Avon</td>\n",
       "      <td>70 FAR HILLS DRIVE</td>\n",
       "      <td>862330.0</td>\n",
       "      <td>1447500.0</td>\n",
       "      <td>0.595700</td>\n",
       "      <td>Residential</td>\n",
       "      <td>Single Family</td>\n",
       "      <td>2021</td>\n",
       "      <td>7</td>\n",
       "    </tr>\n",
       "    <tr>\n",
       "      <th>...</th>\n",
       "      <td>...</td>\n",
       "      <td>...</td>\n",
       "      <td>...</td>\n",
       "      <td>...</td>\n",
       "      <td>...</td>\n",
       "      <td>...</td>\n",
       "      <td>...</td>\n",
       "      <td>...</td>\n",
       "      <td>...</td>\n",
       "      <td>...</td>\n",
       "      <td>...</td>\n",
       "    </tr>\n",
       "    <tr>\n",
       "      <th>997208</th>\n",
       "      <td>190272</td>\n",
       "      <td>2019</td>\n",
       "      <td>New London</td>\n",
       "      <td>4 BISHOP CT</td>\n",
       "      <td>60410.0</td>\n",
       "      <td>53100.0</td>\n",
       "      <td>1.137665</td>\n",
       "      <td>Single Family</td>\n",
       "      <td>Single Family</td>\n",
       "      <td>2020</td>\n",
       "      <td>6</td>\n",
       "    </tr>\n",
       "    <tr>\n",
       "      <th>997209</th>\n",
       "      <td>190284</td>\n",
       "      <td>2019</td>\n",
       "      <td>Waterbury</td>\n",
       "      <td>126 PERKINS AVE</td>\n",
       "      <td>68280.0</td>\n",
       "      <td>76000.0</td>\n",
       "      <td>0.898400</td>\n",
       "      <td>Single Family</td>\n",
       "      <td>Single Family</td>\n",
       "      <td>2019</td>\n",
       "      <td>11</td>\n",
       "    </tr>\n",
       "    <tr>\n",
       "      <th>997210</th>\n",
       "      <td>190129</td>\n",
       "      <td>2019</td>\n",
       "      <td>Windsor Locks</td>\n",
       "      <td>19 HATHAWAY ST</td>\n",
       "      <td>121450.0</td>\n",
       "      <td>210000.0</td>\n",
       "      <td>0.578300</td>\n",
       "      <td>Single Family</td>\n",
       "      <td>Single Family</td>\n",
       "      <td>2020</td>\n",
       "      <td>4</td>\n",
       "    </tr>\n",
       "    <tr>\n",
       "      <th>997211</th>\n",
       "      <td>190504</td>\n",
       "      <td>2019</td>\n",
       "      <td>Middletown</td>\n",
       "      <td>8 BYSTREK DR</td>\n",
       "      <td>203360.0</td>\n",
       "      <td>280000.0</td>\n",
       "      <td>0.726300</td>\n",
       "      <td>Single Family</td>\n",
       "      <td>Single Family</td>\n",
       "      <td>2020</td>\n",
       "      <td>6</td>\n",
       "    </tr>\n",
       "    <tr>\n",
       "      <th>997212</th>\n",
       "      <td>190344</td>\n",
       "      <td>2019</td>\n",
       "      <td>Milford</td>\n",
       "      <td>250 RESEARCH DR</td>\n",
       "      <td>4035970.0</td>\n",
       "      <td>7450000.0</td>\n",
       "      <td>0.541700</td>\n",
       "      <td>Non Indicated</td>\n",
       "      <td>Non Indicated</td>\n",
       "      <td>2019</td>\n",
       "      <td>12</td>\n",
       "    </tr>\n",
       "  </tbody>\n",
       "</table>\n",
       "<p>995367 rows × 11 columns</p>\n",
       "</div>"
      ],
      "text/plain": [
       "        Serial Number  List Year           Town                Address  \\\n",
       "0             2020348       2020        Ansonia        230 WAKELEE AVE   \n",
       "1               20002       2020        Ashford        390 TURNPIKE RD   \n",
       "2              200212       2020           Avon       5 CHESTNUT DRIVE   \n",
       "3              200243       2020           Avon  111 NORTHINGTON DRIVE   \n",
       "4              200377       2020           Avon     70 FAR HILLS DRIVE   \n",
       "...               ...        ...            ...                    ...   \n",
       "997208         190272       2019     New London            4 BISHOP CT   \n",
       "997209         190284       2019      Waterbury        126 PERKINS AVE   \n",
       "997210         190129       2019  Windsor Locks         19 HATHAWAY ST   \n",
       "997211         190504       2019     Middletown           8 BYSTREK DR   \n",
       "997212         190344       2019        Milford        250 RESEARCH DR   \n",
       "\n",
       "        Assessed Value  Sale Amount  Sales Ratio  Property Type  \\\n",
       "0             150500.0     325000.0     0.463000     Commercial   \n",
       "1             253000.0     430000.0     0.588300    Residential   \n",
       "2             130400.0     179900.0     0.724800    Residential   \n",
       "3             619290.0     890000.0     0.695800    Residential   \n",
       "4             862330.0    1447500.0     0.595700    Residential   \n",
       "...                ...          ...          ...            ...   \n",
       "997208         60410.0      53100.0     1.137665  Single Family   \n",
       "997209         68280.0      76000.0     0.898400  Single Family   \n",
       "997210        121450.0     210000.0     0.578300  Single Family   \n",
       "997211        203360.0     280000.0     0.726300  Single Family   \n",
       "997212       4035970.0    7450000.0     0.541700  Non Indicated   \n",
       "\n",
       "       Residential Type  Year of Sale  Month of Sale  \n",
       "0        Non Residental          2021              9  \n",
       "1         Single Family          2020             10  \n",
       "2                 Condo          2021              3  \n",
       "3         Single Family          2021              4  \n",
       "4         Single Family          2021              7  \n",
       "...                 ...           ...            ...  \n",
       "997208    Single Family          2020              6  \n",
       "997209    Single Family          2019             11  \n",
       "997210    Single Family          2020              4  \n",
       "997211    Single Family          2020              6  \n",
       "997212    Non Indicated          2019             12  \n",
       "\n",
       "[995367 rows x 11 columns]"
      ]
     },
     "execution_count": 8,
     "metadata": {},
     "output_type": "execute_result"
    }
   ],
   "source": [
    "df_re"
   ]
  },
  {
   "cell_type": "markdown",
   "id": "469ff09a",
   "metadata": {},
   "source": [
    "#### counting other 0 values"
   ]
  },
  {
   "cell_type": "code",
   "execution_count": 9,
   "id": "597dfbdb",
   "metadata": {},
   "outputs": [],
   "source": [
    "count=(df_re==0).sum()"
   ]
  },
  {
   "cell_type": "code",
   "execution_count": 10,
   "id": "7eb1cbfd",
   "metadata": {},
   "outputs": [
    {
     "name": "stdout",
     "output_type": "stream",
     "text": [
      "Serial Number          0\n",
      "List Year              0\n",
      "Town                   0\n",
      "Address                0\n",
      "Assessed Value      6637\n",
      "Sale Amount            0\n",
      "Sales Ratio         6640\n",
      "Property Type          0\n",
      "Residential Type       0\n",
      "Year of Sale           0\n",
      "Month of Sale          0\n",
      "dtype: int64\n"
     ]
    }
   ],
   "source": [
    "print(count)"
   ]
  },
  {
   "cell_type": "markdown",
   "id": "75459d50",
   "metadata": {},
   "source": [
    "### visualising the 0 values:"
   ]
  },
  {
   "cell_type": "code",
   "execution_count": 11,
   "id": "dfae33e5",
   "metadata": {},
   "outputs": [
    {
     "data": {
      "text/html": [
       "<div>\n",
       "<style scoped>\n",
       "    .dataframe tbody tr th:only-of-type {\n",
       "        vertical-align: middle;\n",
       "    }\n",
       "\n",
       "    .dataframe tbody tr th {\n",
       "        vertical-align: top;\n",
       "    }\n",
       "\n",
       "    .dataframe thead th {\n",
       "        text-align: right;\n",
       "    }\n",
       "</style>\n",
       "<table border=\"1\" class=\"dataframe\">\n",
       "  <thead>\n",
       "    <tr style=\"text-align: right;\">\n",
       "      <th></th>\n",
       "      <th>Serial Number</th>\n",
       "      <th>List Year</th>\n",
       "      <th>Town</th>\n",
       "      <th>Address</th>\n",
       "      <th>Assessed Value</th>\n",
       "      <th>Sale Amount</th>\n",
       "      <th>Sales Ratio</th>\n",
       "      <th>Property Type</th>\n",
       "      <th>Residential Type</th>\n",
       "      <th>Year of Sale</th>\n",
       "      <th>Month of Sale</th>\n",
       "    </tr>\n",
       "  </thead>\n",
       "  <tbody>\n",
       "    <tr>\n",
       "      <th>0</th>\n",
       "      <td>2020348</td>\n",
       "      <td>2020</td>\n",
       "      <td>Ansonia</td>\n",
       "      <td>230 WAKELEE AVE</td>\n",
       "      <td>150500.0</td>\n",
       "      <td>325000.0</td>\n",
       "      <td>0.4630</td>\n",
       "      <td>Commercial</td>\n",
       "      <td>Non Residental</td>\n",
       "      <td>2021</td>\n",
       "      <td>9</td>\n",
       "    </tr>\n",
       "    <tr>\n",
       "      <th>1</th>\n",
       "      <td>20002</td>\n",
       "      <td>2020</td>\n",
       "      <td>Ashford</td>\n",
       "      <td>390 TURNPIKE RD</td>\n",
       "      <td>253000.0</td>\n",
       "      <td>430000.0</td>\n",
       "      <td>0.5883</td>\n",
       "      <td>Residential</td>\n",
       "      <td>Single Family</td>\n",
       "      <td>2020</td>\n",
       "      <td>10</td>\n",
       "    </tr>\n",
       "    <tr>\n",
       "      <th>4</th>\n",
       "      <td>200377</td>\n",
       "      <td>2020</td>\n",
       "      <td>Avon</td>\n",
       "      <td>70 FAR HILLS DRIVE</td>\n",
       "      <td>862330.0</td>\n",
       "      <td>1447500.0</td>\n",
       "      <td>0.5957</td>\n",
       "      <td>Residential</td>\n",
       "      <td>Single Family</td>\n",
       "      <td>2021</td>\n",
       "      <td>7</td>\n",
       "    </tr>\n",
       "    <tr>\n",
       "      <th>14</th>\n",
       "      <td>201295</td>\n",
       "      <td>2020</td>\n",
       "      <td>Bristol</td>\n",
       "      <td>609 CAMP ST</td>\n",
       "      <td>144340.0</td>\n",
       "      <td>249900.0</td>\n",
       "      <td>0.5775</td>\n",
       "      <td>Residential</td>\n",
       "      <td>Single Family</td>\n",
       "      <td>2021</td>\n",
       "      <td>9</td>\n",
       "    </tr>\n",
       "    <tr>\n",
       "      <th>23</th>\n",
       "      <td>2000230</td>\n",
       "      <td>2020</td>\n",
       "      <td>Cheshire</td>\n",
       "      <td>50 ABBEY CT</td>\n",
       "      <td>210940.0</td>\n",
       "      <td>365000.0</td>\n",
       "      <td>0.5779</td>\n",
       "      <td>Residential</td>\n",
       "      <td>Single Family</td>\n",
       "      <td>2021</td>\n",
       "      <td>3</td>\n",
       "    </tr>\n",
       "    <tr>\n",
       "      <th>...</th>\n",
       "      <td>...</td>\n",
       "      <td>...</td>\n",
       "      <td>...</td>\n",
       "      <td>...</td>\n",
       "      <td>...</td>\n",
       "      <td>...</td>\n",
       "      <td>...</td>\n",
       "      <td>...</td>\n",
       "      <td>...</td>\n",
       "      <td>...</td>\n",
       "      <td>...</td>\n",
       "    </tr>\n",
       "    <tr>\n",
       "      <th>997158</th>\n",
       "      <td>190426</td>\n",
       "      <td>2019</td>\n",
       "      <td>Westport</td>\n",
       "      <td>20 BURNHAM HILL ROAD</td>\n",
       "      <td>2396100.0</td>\n",
       "      <td>3400000.0</td>\n",
       "      <td>0.7047</td>\n",
       "      <td>Single Family</td>\n",
       "      <td>Single Family</td>\n",
       "      <td>2020</td>\n",
       "      <td>7</td>\n",
       "    </tr>\n",
       "    <tr>\n",
       "      <th>997174</th>\n",
       "      <td>190713</td>\n",
       "      <td>2019</td>\n",
       "      <td>New Haven</td>\n",
       "      <td>1083 WHALLEY AV</td>\n",
       "      <td>262220.0</td>\n",
       "      <td>325000.0</td>\n",
       "      <td>0.8068</td>\n",
       "      <td>Non Indicated</td>\n",
       "      <td>Non Indicated</td>\n",
       "      <td>2020</td>\n",
       "      <td>6</td>\n",
       "    </tr>\n",
       "    <tr>\n",
       "      <th>997180</th>\n",
       "      <td>19259</td>\n",
       "      <td>2019</td>\n",
       "      <td>Monroe</td>\n",
       "      <td>90 GREENWOOD LN</td>\n",
       "      <td>265900.0</td>\n",
       "      <td>410000.0</td>\n",
       "      <td>0.6485</td>\n",
       "      <td>Single Family</td>\n",
       "      <td>Single Family</td>\n",
       "      <td>2020</td>\n",
       "      <td>8</td>\n",
       "    </tr>\n",
       "    <tr>\n",
       "      <th>997199</th>\n",
       "      <td>190159</td>\n",
       "      <td>2019</td>\n",
       "      <td>Wallingford</td>\n",
       "      <td>530-A5 CENTER ST</td>\n",
       "      <td>128700.0</td>\n",
       "      <td>175000.0</td>\n",
       "      <td>0.7354</td>\n",
       "      <td>Condo</td>\n",
       "      <td>Condo</td>\n",
       "      <td>2019</td>\n",
       "      <td>12</td>\n",
       "    </tr>\n",
       "    <tr>\n",
       "      <th>997212</th>\n",
       "      <td>190344</td>\n",
       "      <td>2019</td>\n",
       "      <td>Milford</td>\n",
       "      <td>250 RESEARCH DR</td>\n",
       "      <td>4035970.0</td>\n",
       "      <td>7450000.0</td>\n",
       "      <td>0.5417</td>\n",
       "      <td>Non Indicated</td>\n",
       "      <td>Non Indicated</td>\n",
       "      <td>2019</td>\n",
       "      <td>12</td>\n",
       "    </tr>\n",
       "  </tbody>\n",
       "</table>\n",
       "<p>193873 rows × 11 columns</p>\n",
       "</div>"
      ],
      "text/plain": [
       "        Serial Number  List Year         Town               Address  \\\n",
       "0             2020348       2020      Ansonia       230 WAKELEE AVE   \n",
       "1               20002       2020      Ashford       390 TURNPIKE RD   \n",
       "4              200377       2020         Avon    70 FAR HILLS DRIVE   \n",
       "14             201295       2020      Bristol           609 CAMP ST   \n",
       "23            2000230       2020     Cheshire           50 ABBEY CT   \n",
       "...               ...        ...          ...                   ...   \n",
       "997158         190426       2019     Westport  20 BURNHAM HILL ROAD   \n",
       "997174         190713       2019    New Haven       1083 WHALLEY AV   \n",
       "997180          19259       2019       Monroe       90 GREENWOOD LN   \n",
       "997199         190159       2019  Wallingford      530-A5 CENTER ST   \n",
       "997212         190344       2019      Milford       250 RESEARCH DR   \n",
       "\n",
       "        Assessed Value  Sale Amount  Sales Ratio  Property Type  \\\n",
       "0             150500.0     325000.0       0.4630     Commercial   \n",
       "1             253000.0     430000.0       0.5883    Residential   \n",
       "4             862330.0    1447500.0       0.5957    Residential   \n",
       "14            144340.0     249900.0       0.5775    Residential   \n",
       "23            210940.0     365000.0       0.5779    Residential   \n",
       "...                ...          ...          ...            ...   \n",
       "997158       2396100.0    3400000.0       0.7047  Single Family   \n",
       "997174        262220.0     325000.0       0.8068  Non Indicated   \n",
       "997180        265900.0     410000.0       0.6485  Single Family   \n",
       "997199        128700.0     175000.0       0.7354          Condo   \n",
       "997212       4035970.0    7450000.0       0.5417  Non Indicated   \n",
       "\n",
       "       Residential Type  Year of Sale  Month of Sale  \n",
       "0        Non Residental          2021              9  \n",
       "1         Single Family          2020             10  \n",
       "4         Single Family          2021              7  \n",
       "14        Single Family          2021              9  \n",
       "23        Single Family          2021              3  \n",
       "...                 ...           ...            ...  \n",
       "997158    Single Family          2020              7  \n",
       "997174    Non Indicated          2020              6  \n",
       "997180    Single Family          2020              8  \n",
       "997199            Condo          2019             12  \n",
       "997212    Non Indicated          2019             12  \n",
       "\n",
       "[193873 rows x 11 columns]"
      ]
     },
     "execution_count": 11,
     "metadata": {},
     "output_type": "execute_result"
    }
   ],
   "source": [
    "df_re[df_re['Address'].str.contains('0')]"
   ]
  },
  {
   "cell_type": "markdown",
   "id": "06a4af62",
   "metadata": {},
   "source": [
    "### the Conclusion:\n",
    "#### the 0 in 'Address' take part of address string and is not to delet. \n",
    "#### the 0 in Ratio is the derivate value for non sold RE\n",
    "#### Therefore the df is ready to analyse \n"
   ]
  },
  {
   "cell_type": "markdown",
   "id": "e75a30bb",
   "metadata": {},
   "source": [
    "## 02-3 Checking the distribution of Sale Amount"
   ]
  },
  {
   "cell_type": "code",
   "execution_count": 12,
   "id": "eadaaf43",
   "metadata": {},
   "outputs": [
    {
     "data": {
      "text/html": [
       "<div>\n",
       "<style scoped>\n",
       "    .dataframe tbody tr th:only-of-type {\n",
       "        vertical-align: middle;\n",
       "    }\n",
       "\n",
       "    .dataframe tbody tr th {\n",
       "        vertical-align: top;\n",
       "    }\n",
       "\n",
       "    .dataframe thead th {\n",
       "        text-align: right;\n",
       "    }\n",
       "</style>\n",
       "<table border=\"1\" class=\"dataframe\">\n",
       "  <thead>\n",
       "    <tr style=\"text-align: right;\">\n",
       "      <th></th>\n",
       "      <th>Serial Number</th>\n",
       "      <th>List Year</th>\n",
       "      <th>Assessed Value</th>\n",
       "      <th>Sale Amount</th>\n",
       "      <th>Sales Ratio</th>\n",
       "      <th>Year of Sale</th>\n",
       "      <th>Month of Sale</th>\n",
       "    </tr>\n",
       "  </thead>\n",
       "  <tbody>\n",
       "    <tr>\n",
       "      <th>count</th>\n",
       "      <td>9.953670e+05</td>\n",
       "      <td>995367.000000</td>\n",
       "      <td>9.953670e+05</td>\n",
       "      <td>9.953670e+05</td>\n",
       "      <td>9.953670e+05</td>\n",
       "      <td>995367.000000</td>\n",
       "      <td>995367.000000</td>\n",
       "    </tr>\n",
       "    <tr>\n",
       "      <th>mean</th>\n",
       "      <td>4.315343e+05</td>\n",
       "      <td>2010.201700</td>\n",
       "      <td>2.781387e+05</td>\n",
       "      <td>3.829385e+05</td>\n",
       "      <td>1.046550e+01</td>\n",
       "      <td>2010.952809</td>\n",
       "      <td>6.812173</td>\n",
       "    </tr>\n",
       "    <tr>\n",
       "      <th>std</th>\n",
       "      <td>6.550747e+06</td>\n",
       "      <td>6.235429</td>\n",
       "      <td>1.414069e+06</td>\n",
       "      <td>1.421291e+06</td>\n",
       "      <td>1.891944e+03</td>\n",
       "      <td>6.244898</td>\n",
       "      <td>3.236982</td>\n",
       "    </tr>\n",
       "    <tr>\n",
       "      <th>min</th>\n",
       "      <td>8.100000e+01</td>\n",
       "      <td>2001.000000</td>\n",
       "      <td>0.000000e+00</td>\n",
       "      <td>1.000000e+00</td>\n",
       "      <td>0.000000e+00</td>\n",
       "      <td>1999.000000</td>\n",
       "      <td>1.000000</td>\n",
       "    </tr>\n",
       "    <tr>\n",
       "      <th>25%</th>\n",
       "      <td>3.045300e+04</td>\n",
       "      <td>2004.000000</td>\n",
       "      <td>8.770000e+04</td>\n",
       "      <td>1.400000e+05</td>\n",
       "      <td>4.875500e-01</td>\n",
       "      <td>2005.000000</td>\n",
       "      <td>4.000000</td>\n",
       "    </tr>\n",
       "    <tr>\n",
       "      <th>50%</th>\n",
       "      <td>7.032700e+04</td>\n",
       "      <td>2010.000000</td>\n",
       "      <td>1.384600e+05</td>\n",
       "      <td>2.250000e+05</td>\n",
       "      <td>6.250857e-01</td>\n",
       "      <td>2011.000000</td>\n",
       "      <td>7.000000</td>\n",
       "    </tr>\n",
       "    <tr>\n",
       "      <th>75%</th>\n",
       "      <td>1.600010e+05</td>\n",
       "      <td>2016.000000</td>\n",
       "      <td>2.256500e+05</td>\n",
       "      <td>3.650000e+05</td>\n",
       "      <td>7.858000e-01</td>\n",
       "      <td>2017.000000</td>\n",
       "      <td>9.000000</td>\n",
       "    </tr>\n",
       "    <tr>\n",
       "      <th>max</th>\n",
       "      <td>2.000500e+09</td>\n",
       "      <td>2020.000000</td>\n",
       "      <td>1.428587e+08</td>\n",
       "      <td>2.300436e+08</td>\n",
       "      <td>1.226420e+06</td>\n",
       "      <td>2021.000000</td>\n",
       "      <td>12.000000</td>\n",
       "    </tr>\n",
       "  </tbody>\n",
       "</table>\n",
       "</div>"
      ],
      "text/plain": [
       "       Serial Number      List Year  Assessed Value   Sale Amount  \\\n",
       "count   9.953670e+05  995367.000000    9.953670e+05  9.953670e+05   \n",
       "mean    4.315343e+05    2010.201700    2.781387e+05  3.829385e+05   \n",
       "std     6.550747e+06       6.235429    1.414069e+06  1.421291e+06   \n",
       "min     8.100000e+01    2001.000000    0.000000e+00  1.000000e+00   \n",
       "25%     3.045300e+04    2004.000000    8.770000e+04  1.400000e+05   \n",
       "50%     7.032700e+04    2010.000000    1.384600e+05  2.250000e+05   \n",
       "75%     1.600010e+05    2016.000000    2.256500e+05  3.650000e+05   \n",
       "max     2.000500e+09    2020.000000    1.428587e+08  2.300436e+08   \n",
       "\n",
       "        Sales Ratio   Year of Sale  Month of Sale  \n",
       "count  9.953670e+05  995367.000000  995367.000000  \n",
       "mean   1.046550e+01    2010.952809       6.812173  \n",
       "std    1.891944e+03       6.244898       3.236982  \n",
       "min    0.000000e+00    1999.000000       1.000000  \n",
       "25%    4.875500e-01    2005.000000       4.000000  \n",
       "50%    6.250857e-01    2011.000000       7.000000  \n",
       "75%    7.858000e-01    2017.000000       9.000000  \n",
       "max    1.226420e+06    2021.000000      12.000000  "
      ]
     },
     "execution_count": 12,
     "metadata": {},
     "output_type": "execute_result"
    }
   ],
   "source": [
    "### first of all let's see the statistic to to understand ranging by distribution \n",
    "df_re.describe()"
   ]
  },
  {
   "cell_type": "markdown",
   "id": "10e158ac",
   "metadata": {},
   "source": [
    "### 02-3-1 Checking the distribution by using histogram"
   ]
  },
  {
   "cell_type": "code",
   "execution_count": 13,
   "id": "18f63f9b",
   "metadata": {},
   "outputs": [
    {
     "data": {
      "text/plain": [
       "Text(0.5, 1.0, 'Sale Amount Distribution\\nRange (0,1000000)')"
      ]
     },
     "execution_count": 13,
     "metadata": {},
     "output_type": "execute_result"
    },
    {
     "data": {
      "image/png": "[encoded data removed]",
      "text/plain": [
       "<Figure size 640x480 with 1 Axes>"
      ]
     },
     "metadata": {},
     "output_type": "display_data"
    }
   ],
   "source": [
    "### Creating histogram by range 0-1mln\n",
    "hist=df_re['Sale Amount'].plot.hist(bins=20,range=(0,1000000))\n",
    "hist.set_title('Sale Amount Distribution\\nRange (0,1000000)')"
   ]
  },
  {
   "cell_type": "markdown",
   "id": "6198cc76",
   "metadata": {},
   "source": [
    "### the plot shows the left-skewed distribution."
   ]
  },
  {
   "cell_type": "code",
   "execution_count": 14,
   "id": "c6bcb09a",
   "metadata": {},
   "outputs": [],
   "source": [
    "### saving the plot\n",
    "hist.figure.savefig(os.path.join(path,'Analytics', 'Hist_SaleAmount.png'))"
   ]
  },
  {
   "cell_type": "code",
   "execution_count": 15,
   "id": "6ab6df28",
   "metadata": {},
   "outputs": [
    {
     "data": {
      "text/plain": [
       "Text(0.5, 1.0, 'Sale Amount Distribution\\nRange (1000000,4000000)')"
      ]
     },
     "execution_count": 15,
     "metadata": {},
     "output_type": "execute_result"
    },
    {
     "data": {
      "image/png": "[encoded data removed]",
      "text/plain": [
       "<Figure size 640x480 with 1 Axes>"
      ]
     },
     "metadata": {},
     "output_type": "display_data"
    }
   ],
   "source": [
    "### Creating histogram by range 1mln-4mln\n",
    "hist=df_re['Sale Amount'].plot.hist(bins=20,range=(1000000,4000000))\n",
    "hist.set_title('Sale Amount Distribution\\nRange (1000000,4000000)')"
   ]
  },
  {
   "cell_type": "code",
   "execution_count": 16,
   "id": "2df16695",
   "metadata": {},
   "outputs": [],
   "source": [
    "### saving the plot\n",
    "hist.figure.savefig(os.path.join(path,'Analytics', 'Hist1_SaleAmountTail.png'))"
   ]
  },
  {
   "cell_type": "code",
   "execution_count": 17,
   "id": "0e46e5e6",
   "metadata": {},
   "outputs": [
    {
     "data": {
      "text/plain": [
       "Text(0.5, 1.0, 'Sale Amount Distribution\\nRange (4000000,10000000)')"
      ]
     },
     "execution_count": 17,
     "metadata": {},
     "output_type": "execute_result"
    },
    {
     "data": {
      "image/png": "[encoded data removed]",
      "text/plain": [
       "<Figure size 640x480 with 1 Axes>"
      ]
     },
     "metadata": {},
     "output_type": "display_data"
    }
   ],
   "source": [
    "### Creating histogram by range 4mln-230mln\n",
    "hist=df_re['Sale Amount'].plot.hist(bins=20,range=(4000000,10000000))\n",
    "hist.set_title('Sale Amount Distribution\\nRange (4000000,10000000)')"
   ]
  },
  {
   "cell_type": "code",
   "execution_count": 18,
   "id": "3fb89415",
   "metadata": {},
   "outputs": [],
   "source": [
    "### saving the plot\n",
    "hist.figure.savefig(os.path.join(path,'Analytics', 'Hist2_SaleAmountTail.png'))"
   ]
  },
  {
   "cell_type": "markdown",
   "id": "0f380d9b",
   "metadata": {},
   "source": [
    "### 02-3-2 Calculating P-value by α =0,05"
   ]
  },
  {
   "cell_type": "code",
   "execution_count": 19,
   "id": "6fbb116e",
   "metadata": {},
   "outputs": [],
   "source": [
    "from scipy import stats"
   ]
  },
  {
   "cell_type": "code",
   "execution_count": 20,
   "id": "fecf1eac",
   "metadata": {},
   "outputs": [],
   "source": [
    "# Normality test for 'Sale Amount' column\n",
    "p_value = stats.normaltest(df_re['Sale Amount']).pvalue"
   ]
  },
  {
   "cell_type": "code",
   "execution_count": 21,
   "id": "afb29665",
   "metadata": {},
   "outputs": [
    {
     "name": "stdout",
     "output_type": "stream",
     "text": [
      "P-value: 0.0\n"
     ]
    }
   ],
   "source": [
    "# Print the p-value\n",
    "print(\"P-value:\", p_value)"
   ]
  },
  {
   "cell_type": "code",
   "execution_count": 22,
   "id": "64c56ffa",
   "metadata": {},
   "outputs": [
    {
     "name": "stdout",
     "output_type": "stream",
     "text": [
      "The 'Sale Amount' data is not normally distributed\n"
     ]
    }
   ],
   "source": [
    "# Check for normal distribution\n",
    "alpha = 0.05\n",
    "if p_value < alpha:\n",
    "    print(\"The 'Sale Amount' data is not normally distributed\")\n",
    "else:\n",
    "    print(\"The 'Sale Amount' data is normally distributed\")\n"
   ]
  },
  {
   "cell_type": "markdown",
   "id": "5fd51e1f",
   "metadata": {},
   "source": [
    "### 02-5 Conducting z-score calculation and finding outliers"
   ]
  },
  {
   "cell_type": "code",
   "execution_count": 23,
   "id": "08a503a4",
   "metadata": {},
   "outputs": [
    {
     "name": "stdout",
     "output_type": "stream",
     "text": [
      "Identified outliers:\n",
      "        Serial Number  List Year          Town                    Address  \\\n",
      "35             200195       2020      Cromwell           34 SHUNPIKE ROAD   \n",
      "596            201204       2020     Greenwich             7 TURNER DRIVE   \n",
      "700            201339       2020       Bristol        1175 FARMINGTON AVE   \n",
      "729            200766       2020     Greenwich       143 OTTER ROCK DRIVE   \n",
      "749            200580       2020     Greenwich           41 GROSSETT ROAD   \n",
      "...               ...        ...           ...                        ...   \n",
      "996320         190080       2019  Wethersfield  1130-1142 SILAS DEANE HWY   \n",
      "996412         190369       2019       Norwalk               399 MAIN AVE   \n",
      "996600         190462       2019        Oxford              150 HAWLEY RD   \n",
      "996743         190379       2019       Milford      470 WHEELERS FARMS RD   \n",
      "997212         190344       2019       Milford            250 RESEARCH DR   \n",
      "\n",
      "        Assessed Value  Sale Amount  Sales Ratio  Property Type  \\\n",
      "35           3360000.0    5214750.0     0.644300     Commercial   \n",
      "596          3648260.0    6725000.0     0.542400    Residential   \n",
      "700          9098880.0   29300000.0     0.310500     Apartments   \n",
      "729          3140970.0    5437500.0     0.577600    Residential   \n",
      "749          3013570.0    5400000.0     0.558069    Residential   \n",
      "...                ...          ...          ...            ...   \n",
      "996320       5390000.0   13000000.0     0.414600  Non Indicated   \n",
      "996412      46100690.0   68500000.0     0.673000  Non Indicated   \n",
      "996600       1848500.0    6000000.0     0.308100  Non Indicated   \n",
      "996743      22050000.0   18200000.0     1.211500  Non Indicated   \n",
      "997212       4035970.0    7450000.0     0.541700  Non Indicated   \n",
      "\n",
      "       Residential Type  Year of Sale  Month of Sale  Sale_Amount_Zscore  \n",
      "35       Non Residental          2021              4            3.399594  \n",
      "596       Single Family          2021              6            4.462184  \n",
      "700       Non Indicated          2021              9           20.345634  \n",
      "729       Single Family          2021              3            3.556318  \n",
      "749       Single Family          2021              2            3.529933  \n",
      "...                 ...           ...            ...                 ...  \n",
      "996320    Non Indicated          2019             11            8.877185  \n",
      "996412    Non Indicated          2020              1           47.926197  \n",
      "996600    Non Indicated          2020              8            3.952085  \n",
      "996743    Non Indicated          2019             12           12.535832  \n",
      "997212    Non Indicated          2019             12            4.972284  \n",
      "\n",
      "[4390 rows x 12 columns]\n"
     ]
    },
    {
     "name": "stderr",
     "output_type": "stream",
     "text": [
      "C:\\Users\\user\\AppData\\Local\\Temp\\ipykernel_16184\\1984977767.py:2: SettingWithCopyWarning: \n",
      "A value is trying to be set on a copy of a slice from a DataFrame.\n",
      "Try using .loc[row_indexer,col_indexer] = value instead\n",
      "\n",
      "See the caveats in the documentation: https://pandas.pydata.org/pandas-docs/stable/user_guide/indexing.html#returning-a-view-versus-a-copy\n",
      "  df_re['Sale_Amount_Zscore'] = (df_re['Sale Amount'] - df_re['Sale Amount'].mean()) / df_re['Sale Amount'].std()\n"
     ]
    }
   ],
   "source": [
    "# Calculate the Z-score for 'Sale Amount' column\n",
    "df_re['Sale_Amount_Zscore'] = (df_re['Sale Amount'] - df_re['Sale Amount'].mean()) / df_re['Sale Amount'].std()\n",
    "\n",
    "# Set the threshold for considering a Z-score as an outlier (for example, 3 standard deviations)\n",
    "outlier_threshold = 3\n",
    "\n",
    "# Identify outliers based on the threshold\n",
    "outliers = df_re[df_re['Sale_Amount_Zscore'].abs() > outlier_threshold]\n",
    "\n",
    "# Print the identified outliers\n",
    "print(\"Identified outliers:\")\n",
    "print(outliers)\n"
   ]
  },
  {
   "cell_type": "markdown",
   "id": "c64d3a17",
   "metadata": {},
   "source": [
    "### 02-6 Checking outliers by a boxplot"
   ]
  },
  {
   "cell_type": "code",
   "execution_count": 24,
   "id": "e926b11c",
   "metadata": {},
   "outputs": [
    {
     "data": {
      "image/png": "[encoded data removed]",
      "text/plain": [
       "<Figure size 800x600 with 1 Axes>"
      ]
     },
     "metadata": {},
     "output_type": "display_data"
    }
   ],
   "source": [
    "# Create a boxplot for the 'Sale Amount' column\n",
    "plt.figure(figsize=(8, 6))\n",
    "plt.title('Boxplot of Sale Amount')\n",
    "plt.boxplot(df_re['Sale Amount'])\n",
    "plt.ylabel('Sale Amount')\n",
    "plt.show()"
   ]
  },
  {
   "cell_type": "code",
   "execution_count": 25,
   "id": "0ae4f1f0",
   "metadata": {},
   "outputs": [
    {
     "data": {
      "text/plain": [
       "<Figure size 640x480 with 0 Axes>"
      ]
     },
     "metadata": {},
     "output_type": "display_data"
    }
   ],
   "source": [
    "plt.savefig(os.path.join(path,'Analytics', 'Boxplot_SaleAmount.png'))"
   ]
  },
  {
   "cell_type": "markdown",
   "id": "3fa876ed",
   "metadata": {},
   "source": [
    "### 02-7 Conducting tests for non normal distribution"
   ]
  },
  {
   "cell_type": "code",
   "execution_count": null,
   "id": "cf5b5ef7",
   "metadata": {},
   "outputs": [],
   "source": []
  },
  {
   "cell_type": "code",
   "execution_count": 26,
   "id": "b22f12c5",
   "metadata": {},
   "outputs": [
    {
     "name": "stdout",
     "output_type": "stream",
     "text": [
      "Sign Test:\n",
      "Test Result: BinomTestResult(k=491665, n=987947, alternative='two-sided', statistic=0.49766333619111147, pvalue=3.4159452041092726e-06)\n",
      "\n",
      "Wilcoxon Signed-Rank Test:\n",
      "Test Statistic: 205836116759.5\n",
      "P-Value: 0.0\n"
     ]
    }
   ],
   "source": [
    "### Extracting the 'Sale amount' column as a numpy array\n",
    "sale_amount = df_re['Sale Amount'].values\n",
    "\n",
    "\n",
    "### Defining the hypothetical median for the tests (e.g., 225000 based on the 50th percentile)\n",
    "hypothetical_median = 225000\n",
    "\n",
    "### Sign Test\n",
    "### Counting the number of positive and negative differences\n",
    "positive_diff = sum(df_re['Sale Amount'] > hypothetical_median)\n",
    "negative_diff = sum(df_re['Sale Amount'] < hypothetical_median)\n",
    "\n",
    "\n",
    "### Performing the sign test\n",
    "sign_test_result = stats.binomtest(min(positive_diff, negative_diff), positive_diff + negative_diff)\n",
    "print(\"Sign Test:\")\n",
    "print(f\"Test Result: {sign_test_result}\")\n",
    "\n",
    "\n",
    "### Wilcoxon Signed-Rank Test\n",
    "wilcoxon_stat, wilcoxon_p_value = stats.wilcoxon(df_re['Sale Amount'] - hypothetical_median)\n",
    "\n",
    "\n",
    "print(\"\\nWilcoxon Signed-Rank Test:\")\n",
    "print(f\"Test Statistic: {wilcoxon_stat}\")\n",
    "print(f\"P-Value: {wilcoxon_p_value}\")\n"
   ]
  },
  {
   "cell_type": "markdown",
   "id": "61c69579",
   "metadata": {},
   "source": [
    "Interpretation: The results of the statistical tests are as follows:\n",
    "\n",
    "Sign Test:\n",
    "Test Result: 3.4159452041092726e-06\n",
    "Interpretation: The p-value obtained from the Sign Test is very small, indicating strong evidence against the null hypothesis. This suggests that there is a significant difference between the observations above and below the hypothetical median.\n",
    "\n",
    "Wilcoxon Signed-Rank Test:\n",
    "Test Statistic:205836116759.5 \n",
    "P-Value: 0.0\n",
    "Interpretation: The extremely large test statistic and the very small p-value from the Wilcoxon Signed-Rank Test indicate strong evidence against the null hypothesis. This suggests that there is a significant difference between the 'Sale Amount' values and the hypothetical median.\n",
    "\n",
    "In both cases, the small p-values indicate that we can reject the null hypothesis in favor of the alternative hypothesis, providing evidence of a significant difference between the 'Sale Amount' values and the hypothetical median.  \n",
    "\n",
    "Conclusion:Both tests confirm the distribution is not normal but left-skewd"
   ]
  },
  {
   "cell_type": "markdown",
   "id": "a6ce2cae",
   "metadata": {},
   "source": [
    "### 02-8 Saving df of sold RE (Sale Amount >0)"
   ]
  },
  {
   "cell_type": "code",
   "execution_count": 27,
   "id": "d54e80e4",
   "metadata": {},
   "outputs": [],
   "source": [
    "df_re.to_csv(os.path.join(path,'Data','Prepared Data','realestate_sold.csv'))"
   ]
  },
  {
   "cell_type": "code",
   "execution_count": null,
   "id": "98c2a9a9",
   "metadata": {},
   "outputs": [],
   "source": []
  },
  {
   "cell_type": "code",
   "execution_count": null,
   "id": "ffa8ace1",
   "metadata": {},
   "outputs": [],
   "source": []
  },
  {
   "cell_type": "code",
   "execution_count": null,
   "id": "60c09301",
   "metadata": {},
   "outputs": [],
   "source": []
  }
 ],
 "metadata": {
  "kernelspec": {
   "display_name": "Python 3 (ipykernel)",
   "language": "python",
   "name": "python3"
  },
  "language_info": {
   "codemirror_mode": {
    "name": "ipython",
    "version": 3
   },
   "file_extension": ".py",
   "mimetype": "text/x-python",
   "name": "python",
   "nbconvert_exporter": "python",
   "pygments_lexer": "ipython3",
   "version": "3.10.13"
  }
 },
 "nbformat": 4,
 "nbformat_minor": 5
}
